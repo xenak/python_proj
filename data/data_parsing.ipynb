{
 "cells": [
  {
   "cell_type": "markdown",
   "metadata": {},
   "source": [
    "## Сбор данных"
   ]
  },
  {
   "cell_type": "markdown",
   "metadata": {},
   "source": [
    "Данные – информация о популярных каналах стримингового серсива Twitch.tv\n",
    "Для сбора данных необходимо два источника информации:\n",
    "1. [Socialblade](https://socialblade.com/twitch/top/500/followers)– сайт, предоставляющий списки наиболее популярных стримеров (по количеству подписчиков и по количеству просмотров канала) \n",
    "2. [Twitch](https://www.twitch.tv) (данные собираются посредством [API](https://dev.twitch.tv))"
   ]
  },
  {
   "cell_type": "code",
   "execution_count": 80,
   "metadata": {},
   "outputs": [],
   "source": [
    "# загрузка библиотек\n",
    "import requests\n",
    "from bs4 import BeautifulSoup as bs\n",
    "import numpy as np\n",
    "import pandas as pd"
   ]
  },
  {
   "cell_type": "markdown",
   "metadata": {},
   "source": [
    "Для начала, сбор информации с Socialblade (названия каналов):"
   ]
  },
  {
   "cell_type": "code",
   "execution_count": 84,
   "metadata": {},
   "outputs": [],
   "source": [
    "# сначала со вкладки, на которой представлены каналы с наибольшим числом подписчиков:\n",
    "sbl = requests.get(\"https://socialblade.com/twitch/top/500/followers\")\n",
    "soup = bs(sbl.text, 'html.parser')\n",
    "\n",
    "num = np.arange(2, 2500, 5) # данные с таблицы идут вперемешку; такая последовательность поможет собрать названия каналов\n",
    "d = []\n",
    "\n",
    "for i in range(500):\n",
    "    d.append({'name': soup.find_all(class_='table-cell')[num[i]].get_text()})\n",
    "    df1 = pd.DataFrame(d)\n",
    "\n",
    "\n",
    "# то же самое для каналов, отсортированных по количеству просмотров:\n",
    "sbl2 = requests.get(\"https://socialblade.com/twitch/top/500/channelviews\")\n",
    "soup2 = bs(sbl2.text, 'html.parser')\n",
    "\n",
    "d2 = []\n",
    "\n",
    "for i in range(500):\n",
    "    d2.append({'name': soup2.find_all(class_='table-cell')[num[i]].get_text()})\n",
    "    df2 = pd.DataFrame(d2)\n",
    "    \n",
    "# Лично мне удобнее полученные списки привести в табличный формат (pd) для дальнейших объединения и фильтрации \n",
    "frames = [df1, df2]\n",
    "df = pd.concat(frames)\n",
    "\n",
    "df=df.reset_index()\n",
    "df.drop(['index'], axis = 1, inplace = True)\n",
    "df=df.drop_duplicates() # один канал тможет находиться в обоих списках\n",
    "df=df.reset_index()\n",
    "df.drop(['index'], axis = 1, inplace = True)"
   ]
  },
  {
   "cell_type": "markdown",
   "metadata": {},
   "source": [
    "Теперь можно перейти ко сбору данных с самого Twitch.tv"
   ]
  },
  {
   "cell_type": "code",
   "execution_count": 86,
   "metadata": {},
   "outputs": [
    {
     "data": {
      "text/plain": [
       "{'self': 'https://api.twitch.tv/kraken/channels/ninja',\n",
       " 'follows': 'https://api.twitch.tv/kraken/channels/ninja/follows',\n",
       " 'commercial': 'https://api.twitch.tv/kraken/channels/ninja/commercial',\n",
       " 'stream_key': 'https://api.twitch.tv/kraken/channels/ninja/stream_key',\n",
       " 'chat': 'https://api.twitch.tv/kraken/chat/ninja',\n",
       " 'features': 'https://api.twitch.tv/kraken/channels/ninja/features',\n",
       " 'subscriptions': 'https://api.twitch.tv/kraken/channels/ninja/subscriptions',\n",
       " 'editors': 'https://api.twitch.tv/kraken/channels/ninja/editors',\n",
       " 'teams': 'https://api.twitch.tv/kraken/channels/ninja/teams',\n",
       " 'videos': 'https://api.twitch.tv/kraken/channels/ninja/videos'}"
      ]
     },
     "execution_count": 86,
     "metadata": {},
     "output_type": "execute_result"
    }
   ],
   "source": [
    "twitch='https://api.twitch.tv/kraken/channels/'\n",
    "headers = {\"Client-ID\": \"fq4s3rmzc9erhbws2n3z9u20kqf1rh\"}\n",
    "urls=[]\n",
    "urls.append(twitch + df.name)\n",
    "\n",
    "twt = requests.get(urls[0][0],headers=headers)\n",
    "twt.json()[\"_links\"] # базовый список url, по которым можно (или нельзя) собрать данные"
   ]
  },
  {
   "cell_type": "markdown",
   "metadata": {},
   "source": [
    "Как видно выше, API позволяет собрать данные о канале по многим разделам (информация о чате/видео/командах и тд), однако, для доступа к некоторым данным не хватает прав (вероятно, часть данных можно собрать только владельцу того или иного канала).\n",
    "Тем не менее, наиболее важные ссылки всё ещё позволяют найти необходимые данные:"
   ]
  },
  {
   "cell_type": "code",
   "execution_count": 92,
   "metadata": {},
   "outputs": [],
   "source": [
    "s=[]\n",
    "for k in range(735): # После удаления дублирующихся данных осталось 735 каналов (данные могут меняться; собирались 24го октября)\n",
    "    v = str('https://api.twitch.tv/kraken/channels/' + df.name[k] + '/videos?broadcasts=true') # прошлые прямые трансляции\n",
    "    twt1 = requests.get(v, headers=headers)\n",
    "    n = str('https://api.twitch.tv/kraken/channels/' + df.name[k]) # общие сведения о канале\n",
    "    twt2 = requests.get(n,headers=headers)\n",
    "    t = str('https://api.twitch.tv/kraken/channels/' + df.name[k] + '/teams') # сообщества или т.н. \"команды\"\n",
    "    twt3 = requests.get(t,headers=headers)\n",
    "    h = str('https://api.twitch.tv/kraken/channels/' + df.name[k] + '/videos') # \"яркие\" моменты канала\n",
    "    twt4 = requests.get(h,headers=headers)\n",
    "    f = str('https://api.twitch.tv/kraken/users/' + df.name[k] + '/follows/channels') # кого фолловит сам владелец канала\n",
    "    twt5 = requests.get(f,headers=headers)\n",
    "    if '_total' in twt1.json().keys() and 'broadcaster_language' in twt2.json():\n",
    "            s.append({'name': df.name[k],  # название канала\n",
    "                      'views': twt2.json()['views'], # количество просмотров\n",
    "                      'followers': twt2.json()['followers'], # количество подписчиков\n",
    "                      'following': twt5.json()['_total'], # количество каналов, на которые подписан пользователь\n",
    "                      'broadcasts_num': twt1.json()['_total'], # сколько записей с предыдуцщих трансляций сохранено\n",
    "                      'highlights_num': twt4.json()['_total'], # сколько \"ярких моментов\" вырезано из записей\n",
    "                      'language': twt2.json()['broadcaster_language'], # основной язык канала\n",
    "                      'in_partnership': twt2.json()['partner'], # есть ли партнёрская программа\n",
    "                      'teams': len(twt3.json()['teams']), # в скольких командах состоит\n",
    "                      'mature': twt2.json()['mature'], # контент (18+/family-friendly)\n",
    "                      'creation_year': twt2.json()['created_at'][0:4]}) # год создания канала\n",
    "    else:\n",
    "        pass\n"
   ]
  },
  {
   "cell_type": "code",
   "execution_count": 93,
   "metadata": {},
   "outputs": [],
   "source": [
    "# Создание датафрейма\n",
    "df=pd.DataFrame(s)\n",
    "df=df[df.broadcasts_num != 0] # Socialblade предоставляет данные о каналах так, что один и тот же может появиться несколько раз, \n",
    "# если ранее он был переименован. В переименованных версиях, как правило, отсутствуют данные о предыдущих трансляциях\n",
    "df=df.reset_index()\n",
    "df.drop(['index'], axis = 1, inplace = True)"
   ]
  },
  {
   "cell_type": "code",
   "execution_count": 149,
   "metadata": {},
   "outputs": [
    {
     "data": {
      "text/html": [
       "<div>\n",
       "<style scoped>\n",
       "    .dataframe tbody tr th:only-of-type {\n",
       "        vertical-align: middle;\n",
       "    }\n",
       "\n",
       "    .dataframe tbody tr th {\n",
       "        vertical-align: top;\n",
       "    }\n",
       "\n",
       "    .dataframe thead th {\n",
       "        text-align: right;\n",
       "    }\n",
       "</style>\n",
       "<table border=\"1\" class=\"dataframe\">\n",
       "  <thead>\n",
       "    <tr style=\"text-align: right;\">\n",
       "      <th></th>\n",
       "      <th>broadcasts_num</th>\n",
       "      <th>creation_year</th>\n",
       "      <th>followers</th>\n",
       "      <th>following</th>\n",
       "      <th>highlights_num</th>\n",
       "      <th>in_partnership</th>\n",
       "      <th>language</th>\n",
       "      <th>mature</th>\n",
       "      <th>name</th>\n",
       "      <th>teams</th>\n",
       "      <th>views</th>\n",
       "      <th>type</th>\n",
       "    </tr>\n",
       "  </thead>\n",
       "  <tbody>\n",
       "    <tr>\n",
       "      <th>0</th>\n",
       "      <td>455</td>\n",
       "      <td>2011</td>\n",
       "      <td>11932442</td>\n",
       "      <td>247</td>\n",
       "      <td>247</td>\n",
       "      <td>True</td>\n",
       "      <td>en</td>\n",
       "      <td>False</td>\n",
       "      <td>ninja</td>\n",
       "      <td>1</td>\n",
       "      <td>356868818</td>\n",
       "      <td>person</td>\n",
       "    </tr>\n",
       "    <tr>\n",
       "      <th>1</th>\n",
       "      <td>871</td>\n",
       "      <td>2012</td>\n",
       "      <td>4672585</td>\n",
       "      <td>70</td>\n",
       "      <td>35</td>\n",
       "      <td>True</td>\n",
       "      <td>en</td>\n",
       "      <td>False</td>\n",
       "      <td>shroud</td>\n",
       "      <td>0</td>\n",
       "      <td>226014173</td>\n",
       "      <td>person</td>\n",
       "    </tr>\n",
       "    <tr>\n",
       "      <th>2</th>\n",
       "      <td>60</td>\n",
       "      <td>2015</td>\n",
       "      <td>4439377</td>\n",
       "      <td>168</td>\n",
       "      <td>106</td>\n",
       "      <td>True</td>\n",
       "      <td>en</td>\n",
       "      <td>True</td>\n",
       "      <td>tsm_myth</td>\n",
       "      <td>2</td>\n",
       "      <td>62076447</td>\n",
       "      <td>person</td>\n",
       "    </tr>\n",
       "    <tr>\n",
       "      <th>3</th>\n",
       "      <td>66</td>\n",
       "      <td>2011</td>\n",
       "      <td>3320792</td>\n",
       "      <td>185</td>\n",
       "      <td>268</td>\n",
       "      <td>True</td>\n",
       "      <td>en</td>\n",
       "      <td>False</td>\n",
       "      <td>summit1g</td>\n",
       "      <td>2</td>\n",
       "      <td>245213917</td>\n",
       "      <td>channel</td>\n",
       "    </tr>\n",
       "    <tr>\n",
       "      <th>4</th>\n",
       "      <td>100</td>\n",
       "      <td>2014</td>\n",
       "      <td>3266302</td>\n",
       "      <td>418</td>\n",
       "      <td>152</td>\n",
       "      <td>True</td>\n",
       "      <td>en</td>\n",
       "      <td>False</td>\n",
       "      <td>tfue</td>\n",
       "      <td>1</td>\n",
       "      <td>48294410</td>\n",
       "      <td>person</td>\n",
       "    </tr>\n",
       "  </tbody>\n",
       "</table>\n",
       "</div>"
      ],
      "text/plain": [
       "   broadcasts_num creation_year  followers  following  highlights_num  \\\n",
       "0             455          2011   11932442        247             247   \n",
       "1             871          2012    4672585         70              35   \n",
       "2              60          2015    4439377        168             106   \n",
       "3              66          2011    3320792        185             268   \n",
       "4             100          2014    3266302        418             152   \n",
       "\n",
       "   in_partnership language  mature      name  teams      views     type  \n",
       "0            True       en   False     ninja      1  356868818   person  \n",
       "1            True       en   False    shroud      0  226014173   person  \n",
       "2            True       en    True  tsm_myth      2   62076447   person  \n",
       "3            True       en   False  summit1g      2  245213917  channel  \n",
       "4            True       en   False      tfue      1   48294410   person  "
      ]
     },
     "execution_count": 149,
     "metadata": {},
     "output_type": "execute_result"
    }
   ],
   "source": [
    "# Объединение датасетов\n",
    "\n",
    "typen=pd.read_csv('type.csv') # переменная, которая собиралась вручную: \n",
    "# тип канала (любительская трансляция/полу- профессиональная)\n",
    "\n",
    "result = pd.merge(df, typen, how='inner', on=['name'])\n",
    "result.head()"
   ]
  },
  {
   "cell_type": "code",
   "execution_count": 150,
   "metadata": {},
   "outputs": [],
   "source": [
    "result.to_csv('twitchdata.csv')"
   ]
  }
 ],
 "metadata": {
  "kernelspec": {
   "display_name": "Python 3",
   "language": "python",
   "name": "python3"
  },
  "language_info": {
   "codemirror_mode": {
    "name": "ipython",
    "version": 3
   },
   "file_extension": ".py",
   "mimetype": "text/x-python",
   "name": "python",
   "nbconvert_exporter": "python",
   "pygments_lexer": "ipython3",
   "version": "3.7.0"
  }
 },
 "nbformat": 4,
 "nbformat_minor": 2
}
